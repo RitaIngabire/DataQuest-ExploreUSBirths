{
 "cells": [
  {
   "cell_type": "markdown",
   "metadata": {},
   "source": [
    "### 1. Processing US Birth Data \n",
    "In the last guided project, we explored the Jupyter notebook environment and worked with a dataset on births in the U.S.  \n",
    "In this guided project, we'll continue working with the same dataset, compiled by FiveThirtyEight.  \n",
    "When you're finished, you can compare your work to the reference solution.\n",
    "\n",
    "\n",
    "#### The dataset contains the following columns:\n",
    "1. year: Year (1994 to 2003).\n",
    "2. month: Month (1 to 12).\n",
    "3. date_of_month: Day number of the month (1 to 31).\n",
    "4. day_of_week: Day of week (1 to 7).\n",
    "5. births: Number of births that day."
   ]
  },
  {
   "cell_type": "code",
   "execution_count": 1,
   "metadata": {},
   "outputs": [
    {
     "data": {
      "text/plain": [
       "['year,month,date_of_month,day_of_week,births',\n",
       " '1994,1,1,6,8096',\n",
       " '1994,1,2,7,7772',\n",
       " '1994,1,3,1,10142',\n",
       " '1994,1,4,2,11248',\n",
       " '1994,1,5,3,11053',\n",
       " '1994,1,6,4,11406',\n",
       " '1994,1,7,5,11251',\n",
       " '1994,1,8,6,8653',\n",
       " '1994,1,9,7,7910']"
      ]
     },
     "execution_count": 1,
     "metadata": {},
     "output_type": "execute_result"
    }
   ],
   "source": [
    "f = open(\"US_births_1994-2003_CDC_NCHS.csv\",'r')\n",
    "lines = f.read()\n",
    "rows = lines.split('\\n')\n",
    "rows[0:10]\n"
   ]
  },
  {
   "cell_type": "markdown",
   "metadata": {},
   "source": [
    "### 2.  Processing the File \n",
    "\n",
    "###  i) Preamble\n",
    "While a list of strings helps us get a general picture of the dataset, we need to convert it to a more structured format  \n",
    "to be able to analyze it. Specifically, we need to convert the dataset into a list of lists where each nested list  \n",
    "contains integer values (not strings). We also need to remove the header row.\n",
    "\n",
    "Here's what we want the data to look like:\n",
    "\n",
    "\n",
    "​\n",
    "[ \n",
    "  [1994, 1, 1, 6, 8096],  \n",
    "  [1994, 1, 2, 7, 7772],  \n",
    "  [1994, 1, 3, 1, 10142],  \n",
    "  [1994, 1, 4, 2, 11248],  \n",
    "  [1994, 1, 5, 3, 11053],  \n",
    "  ...\n",
    "]"
   ]
  },
  {
   "cell_type": "markdown",
   "metadata": {},
   "source": [
    "### ii) Create function that processes file\n",
    "\n",
    "Create a function named read_csv() that:\n",
    "Takes a single, required argument, a string representing the file name of the CSV file.  \n",
    "Reads the file into a string, splits the string on the newline character (\"\\n\"), and removes the header row.  \n",
    "Assign this list to string_list and create an empty list named final_list.  \n",
    "  \n",
    "Uses a for loop to:\n",
    "\n",
    "+ Iterate over string_list,\n",
    "+ Create an empty list named int_fields,\n",
    "+ Splits each row on the comma delimiter (,) and assigns the resulting list to string_fields,\n",
    "+ Converts each value in string_fields to an integer and appends to int_fields,\n",
    "+ Appends int_fields to final_list.\n",
    "+ Returns final_list.  \n",
    "\n",
    "Use the read_csv() function to read in the file \"US_births_1994-2003_CDC_NCHS.csv\" and assign the result to cdc_list.  \n"
   ]
  },
  {
   "cell_type": "code",
   "execution_count": 2,
   "metadata": {},
   "outputs": [],
   "source": [
    "def read_csv(input_str):\n",
    "    \n",
    "    #Preprocessing file - create a list from file .\n",
    "    #Create a string object from file , read file  \n",
    "    #and then split into lists\n",
    "    f = open(input_str,'r')\n",
    "    lines = f.read()\n",
    "    rows = lines.split('\\n')\n",
    "    \n",
    "    # Remove header \n",
    "    string_list = rows[1:len(rows)]\n",
    "    final_list = []\n",
    "    \n",
    "    #loop through list without header \n",
    "    for lst in string_list:         \n",
    "        string_fields = lst.split(\",\")\n",
    "        int_fields = []\n",
    "        for field in string_fields:      \n",
    "            int_fields.append(int(field))\n",
    "        final_list.append(int_fields)    \n",
    "    return final_list    \n",
    "    \n",
    "    "
   ]
  },
  {
   "cell_type": "code",
   "execution_count": 3,
   "metadata": {},
   "outputs": [
    {
     "name": "stdout",
     "output_type": "stream",
     "text": [
      "[[1994, 1, 1, 6, 8096], [1994, 1, 2, 7, 7772], [1994, 1, 3, 1, 10142], [1994, 1, 4, 2, 11248], [1994, 1, 5, 3, 11053], [1994, 1, 6, 4, 11406], [1994, 1, 7, 5, 11251], [1994, 1, 8, 6, 8653], [1994, 1, 9, 7, 7910], [1994, 1, 10, 1, 10498]]\n"
     ]
    }
   ],
   "source": [
    "cdc_list = read_csv(\"US_births_1994-2003_CDC_NCHS.csv\")\n",
    "print (cdc_list[0:10])"
   ]
  },
  {
   "cell_type": "markdown",
   "metadata": {},
   "source": [
    "### 3. Calculating Number Of Births Each Month\n",
    "\n",
    "Now that the data is in a more usable format, we can start to analyze it. Let's calculate the total number of births that\n",
    "occured in each month, across all of the years in the dataset.We'll create a dictionary where each key is a unique month and each value is the number of births that happened in that month, across all years:\n",
    "\n",
    "\n",
    "Create a function named month_births() that:\n",
    "Takes a single, required argument, a list of lists.\n",
    "Creates an empty dictionary, births_per_month, to store the monthly totals.\n",
    "Uses a for loop to:\n",
    "\n",
    "+ Iterate over the list of lists,\n",
    "+ Extract the value in the month and births columns,\n",
    "+ If the month value already exists as a key in births_per_month, the births value is added to the existing value,\n",
    "+ If the month value doesn't exist as a key in births_per_month, it's created and the associated value is the births value.\n",
    "\n",
    "After the loop, return the births_per_month dictionary.  \n",
    "Use the month_births() function to calculate the monthly totals for the dataset and assign the result to cdc_month_births.  Display the dictionary."
   ]
  },
  {
   "cell_type": "code",
   "execution_count": 4,
   "metadata": {},
   "outputs": [
    {
     "name": "stdout",
     "output_type": "stream",
     "text": [
      "{1: 3232517, 2: 3018140, 3: 3322069, 4: 3185314, 5: 3350907, 6: 3296530, 7: 3498783, 8: 3525858, 9: 3439698, 10: 3378814, 11: 3171647, 12: 3301860}\n"
     ]
    }
   ],
   "source": [
    "def month_births(input_lst):\n",
    "    births_per_month = {}\n",
    "    for lst in input_lst:\n",
    "        month  = lst[1]\n",
    "        births = lst[4]\n",
    "        if month in births_per_month:\n",
    "            births_per_month[month] += births\n",
    "        else:\n",
    "            births_per_month[month] = births\n",
    "    return (births_per_month)\n",
    "\n",
    "cdc_month_births = month_births(cdc_list)\n",
    "print (cdc_month_births)"
   ]
  },
  {
   "cell_type": "markdown",
   "metadata": {},
   "source": [
    "### 4. Calculating Number Of Births Each Day Of Week\n",
    "\n",
    "Let's now create a function that calculates the total number of births for each unique day of the week.  \n",
    "Here's what we want the dictionary to look like:\n",
    "\n",
    "{  \n",
    "  1: 5789166,  \n",
    "  2: 6446196,  \n",
    "  3: 6322855,  \n",
    "  4: 6288429,  \n",
    "  5: 6233657,  \n",
    "  6: 4562111,  \n",
    "  7: 4079723  \n",
    "}\n",
    "\n",
    "+ Create a function named dow_births() that takes a single, required argument (a list of lists) and returns \n",
    "  a dictionary containing the total number of births for each unique value of the day_of_week column.  \n",
    "+ Use the dow_births() function to return the day-of-week totals for the dataset and assign the result\n",
    "  to cdc_day_births. Display the dictionary."
   ]
  },
  {
   "cell_type": "code",
   "execution_count": 5,
   "metadata": {
    "scrolled": true
   },
   "outputs": [
    {
     "name": "stdout",
     "output_type": "stream",
     "text": [
      "{6: 4562111, 7: 4079723, 1: 5789166, 2: 6446196, 3: 6322855, 4: 6288429, 5: 6233657}\n"
     ]
    }
   ],
   "source": [
    "def dow_births(input_lst):\n",
    "    births_day_of_week = {}\n",
    "    for lst in input_lst: \n",
    "        day_of_week = lst[3]\n",
    "        births = lst[4]\n",
    "        if day_of_week in births_day_of_week:\n",
    "            births_day_of_week[day_of_week] += births\n",
    "        else: \n",
    "            births_day_of_week[day_of_week] = births\n",
    "    return (births_day_of_week)\n",
    "    \n",
    "cdc_day_births = dow_births(cdc_list)\n",
    "print (cdc_day_births)"
   ]
  },
  {
   "cell_type": "markdown",
   "metadata": {},
   "source": [
    "### 5. Creating A More General Function\n",
    "\n",
    "You may have noticed that there was a lot of similarity between the two functions you just wrote.  \n",
    "While we can also create separate functions to calculate the totals for the year and date_of_month columns,  \n",
    "it's better to create a single function that works for any column and specify the column we want as a parameter each time we call the function.\n"
   ]
  },
  {
   "cell_type": "code",
   "execution_count": 6,
   "metadata": {},
   "outputs": [],
   "source": [
    "def calc_counts(data,column):\n",
    "    births_column_counts = {}\n",
    "    for lst in data:\n",
    "        column_interest = lst[column-1]\n",
    "        births = lst[4]\n",
    "        if column_interest in births_column_counts:\n",
    "            births_column_counts[column_interest] += births\n",
    "        else: \n",
    "            births_column_counts[column_interest] = births \n",
    "    return births_column_counts        "
   ]
  },
  {
   "cell_type": "markdown",
   "metadata": {},
   "source": [
    "### Testing the general version of the function\n",
    "\n",
    "#### Create a function named calc_counts() that:\n",
    "##### Takes two, required parameters:\n",
    "\n",
    "+ data: a list of lists\n",
    "+ column: the column number we want to calculate the totals for\n",
    "\n",
    "Populates and returns a dictionary containing the total number of births for each unique value in the column at  \n",
    "position column."
   ]
  },
  {
   "cell_type": "code",
   "execution_count": 7,
   "metadata": {},
   "outputs": [
    {
     "name": "stdout",
     "output_type": "stream",
     "text": [
      "{1994: 3952767, 1995: 3899589, 1996: 3891494, 1997: 3880894, 1998: 3941553, 1999: 3959417, 2000: 4058814, 2001: 4025933, 2002: 4021726, 2003: 4089950}\n"
     ]
    }
   ],
   "source": [
    "cdc_year_births = calc_counts(cdc_list,1)\n",
    "print (cdc_year_births)"
   ]
  },
  {
   "cell_type": "code",
   "execution_count": 8,
   "metadata": {},
   "outputs": [
    {
     "name": "stdout",
     "output_type": "stream",
     "text": [
      "{1: 3232517, 2: 3018140, 3: 3322069, 4: 3185314, 5: 3350907, 6: 3296530, 7: 3498783, 8: 3525858, 9: 3439698, 10: 3378814, 11: 3171647, 12: 3301860}\n"
     ]
    }
   ],
   "source": [
    "cdc_month_births = calc_counts(cdc_list,2)\n",
    "print (cdc_month_births )"
   ]
  },
  {
   "cell_type": "code",
   "execution_count": 9,
   "metadata": {},
   "outputs": [
    {
     "name": "stdout",
     "output_type": "stream",
     "text": [
      "{1: 1276557, 2: 1288739, 3: 1304499, 4: 1288154, 5: 1299953, 6: 1304474, 7: 1310459, 8: 1312297, 9: 1303292, 10: 1320764, 11: 1314361, 12: 1318437, 13: 1277684, 14: 1320153, 15: 1319171, 16: 1315192, 17: 1324953, 18: 1326855, 19: 1318727, 20: 1324821, 21: 1322897, 22: 1317381, 23: 1293290, 24: 1288083, 25: 1272116, 26: 1284796, 27: 1294395, 28: 1307685, 29: 1223161, 30: 1202095, 31: 746696}\n"
     ]
    }
   ],
   "source": [
    "cdc_dom_births = calc_counts(cdc_list,3)\n",
    "print (cdc_dom_births )\n"
   ]
  },
  {
   "cell_type": "code",
   "execution_count": 10,
   "metadata": {},
   "outputs": [],
   "source": [
    "cdc_dow_births = calc_counts(cdc_list,4)"
   ]
  },
  {
   "cell_type": "markdown",
   "metadata": {},
   "source": [
    "That's it for the guided steps. Here are some suggestions for next steps:\n",
    "\n",
    "+ Write a function that can calculate the min and max values for any dictionary that's passed in.\n",
    "+ Write a function that extracts the same values across years and calculates the differences between consecutive values \n",
    "to show if number of births is increasing or decreasing.\n",
    "\n",
    "For example, how did the number of births on Saturday change each year between 1994 and 2003?\n",
    "Find a way to combine the CDC data with the SSA data, which you can find here. Specifically, brainstorm ways to deal with the overlapping time periods in the datasets."
   ]
  },
  {
   "cell_type": "code",
   "execution_count": 11,
   "metadata": {},
   "outputs": [],
   "source": [
    "# Calculating max and min values ''''''\n",
    "def maxMin(new_dict):\n",
    "     maximum = max(new_dict, key=new_dict.get)\n",
    "     print(maximum, new_dict[maximum])\n",
    "     minimum = min(new_dict, key=new_dict.get)\n",
    "     print(minimum, new_dict[minimum])\n",
    "    "
   ]
  },
  {
   "cell_type": "code",
   "execution_count": 12,
   "metadata": {},
   "outputs": [
    {
     "name": "stdout",
     "output_type": "stream",
     "text": [
      "18 1326855\n",
      "31 746696\n",
      "None\n",
      "8 3525858\n",
      "2 3018140\n",
      "None\n"
     ]
    }
   ],
   "source": [
    "print(maxMin(cdc_dom_births))\n",
    "print(maxMin(cdc_month_births))\n"
   ]
  },
  {
   "cell_type": "code",
   "execution_count": null,
   "metadata": {},
   "outputs": [],
   "source": []
  }
 ],
 "metadata": {
  "anaconda-cloud": {},
  "kernelspec": {
   "display_name": "Python 3",
   "language": "python",
   "name": "python3"
  },
  "language_info": {
   "codemirror_mode": {
    "name": "ipython",
    "version": 3
   },
   "file_extension": ".py",
   "mimetype": "text/x-python",
   "name": "python",
   "nbconvert_exporter": "python",
   "pygments_lexer": "ipython3",
   "version": "3.6.5"
  }
 },
 "nbformat": 4,
 "nbformat_minor": 1
}
